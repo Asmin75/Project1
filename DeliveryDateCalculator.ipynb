{
 "cells": [
  {
   "cell_type": "markdown",
   "metadata": {},
   "source": [
    "<h1>DeliveryDateCalculator</h1>"
   ]
  },
  {
   "cell_type": "code",
   "execution_count": 4,
   "metadata": {
    "collapsed": false
   },
   "outputs": [
    {
     "name": "stdout",
     "output_type": "stream",
     "text": [
      "Enter your last Mentrual date in format (mm/dd/yyyy): 3/4/2018\n",
      "2018-03-04\n",
      "Your Delivery Time is: 2019 0 11\n"
     ]
    }
   ],
   "source": [
    "import datetime\n",
    "userInput=raw_input(\"Enter your last Mentrual date in format (mm/dd/yyyy): \")\n",
    "LastMenstruation =datetime.datetime.strptime(userInput,'%m/%d/%Y').date()\n",
    "print LastMenstruation\n",
    "Delivery_year =LastMenstruation.year + 1\n",
    "#print 'Delivery year is:' ,Delivery_year\n",
    "Delivery_month =LastMenstruation.month -3\n",
    "#print Delivery_month\n",
    "Delivery_day=LastMenstruation.day + 7\n",
    "print \"Your Delivery Time is:\", Delivery_year , Delivery_month , Delivery_day\n"
   ]
  },
  {
   "cell_type": "code",
   "execution_count": null,
   "metadata": {
    "collapsed": false
   },
   "outputs": [],
   "source": []
  },
  {
   "cell_type": "code",
   "execution_count": null,
   "metadata": {
    "collapsed": true
   },
   "outputs": [],
   "source": []
  }
 ],
 "metadata": {
  "anaconda-cloud": {},
  "kernelspec": {
   "display_name": "Python [Root]",
   "language": "python",
   "name": "Python [Root]"
  },
  "language_info": {
   "codemirror_mode": {
    "name": "ipython",
    "version": 2
   },
   "file_extension": ".py",
   "mimetype": "text/x-python",
   "name": "python",
   "nbconvert_exporter": "python",
   "pygments_lexer": "ipython2",
   "version": "2.7.12"
  }
 },
 "nbformat": 4,
 "nbformat_minor": 0
}
