{
 "cells": [
  {
   "cell_type": "markdown",
   "metadata": {},
   "source": [
    "<h1>DeliveryDateCalculator</h1>"
   ]
  },
  {
   "cell_type": "code",
   "execution_count": 9,
   "metadata": {
    "collapsed": false
   },
   "outputs": [
    {
     "name": "stdout",
     "output_type": "stream",
     "text": [
      "Enter your last Mentrual date in format (mm/dd/yyyy): 4/4/2018\n",
      "According to your LastMenstruation Date 2018-04-04\n",
      "i.e 04 Apr, 2018\n",
      "The Delivery date is: 2019-01-11\n",
      "i.e 11 Jan,2019\n"
     ]
    }
   ],
   "source": [
    "import datetime\n",
    "import calendar\n",
    "userInput=raw_input(\"Enter your last Mentrual date in format (mm/dd/yyyy): \")\n",
    "LastMenstruation =datetime.datetime.strptime(userInput,'%m/%d/%Y').date()\n",
    "print 'According to your LastMenstruation Date',LastMenstruation\n",
    "print 'i.e',LastMenstruation.strftime('%d %b, %Y')\n",
    "year_delta=datetime.timedelta(days=365)\n",
    "days_delta=datetime.timedelta(days=7)\n",
    "month_delta=datetime.timedelta(days=3*30)\n",
    "Delivery_year=LastMenstruation + year_delta + days_delta - month_delta\n",
    "print 'The Delivery date is:' ,Delivery_year\n",
    "print 'i.e',Delivery_year.strftime('%d %b, %Y')"
   ]
  },
  {
   "cell_type": "code",
   "execution_count": null,
   "metadata": {
    "collapsed": false
   },
   "outputs": [],
   "source": []
  },
  {
   "cell_type": "code",
   "execution_count": null,
   "metadata": {
    "collapsed": true
   },
   "outputs": [],
   "source": []
  }
 ],
 "metadata": {
  "anaconda-cloud": {},
  "kernelspec": {
   "display_name": "Python [Root]",
   "language": "python",
   "name": "Python [Root]"
  },
  "language_info": {
   "codemirror_mode": {
    "name": "ipython",
    "version": 2
   },
   "file_extension": ".py",
   "mimetype": "text/x-python",
   "name": "python",
   "nbconvert_exporter": "python",
   "pygments_lexer": "ipython2",
   "version": "2.7.12"
  }
 },
 "nbformat": 4,
 "nbformat_minor": 0
}
