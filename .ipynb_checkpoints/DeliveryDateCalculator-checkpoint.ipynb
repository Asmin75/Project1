{
 "cells": [
  {
   "cell_type": "markdown",
   "metadata": {},
   "source": [
    "<h1>DeliveryDateCalculator</h1>"
   ]
  },
  {
   "cell_type": "code",
   "execution_count": 20,
   "metadata": {
    "collapsed": false
   },
   "outputs": [
    {
     "name": "stdout",
     "output_type": "stream",
     "text": [
      "Enter your last Mentrual date in format (mm/dd/yyyy): 4/4/2018\n",
      "2018-04-04\n",
      "i.e 04 Apr, 2018\n",
      "Jan\n",
      "Your Delivery Time is: 11Jan2019\n"
     ]
    }
   ],
   "source": [
    "def DM():\n",
    "    if (Delivery_month < 1):\n",
    "        return (months[Delivery_month])\n",
    "    else:\n",
    "        return (months[Delivery_month - 1])\n",
    "import datetime\n",
    "userInput=raw_input(\"Enter your last Mentrual date in format (mm/dd/yyyy): \")\n",
    "LastMenstruation =datetime.datetime.strptime(userInput,'%m/%d/%Y').date()\n",
    "print LastMenstruation\n",
    "print 'i.e',LastMenstruation.strftime('%d %b, %Y')\n",
    "Delivery_year =LastMenstruation.year + 1\n",
    "#print 'Delivery year is:' ,Delivery_year\n",
    "months=['Jan','Feb','March','April','May','June','July','Aug','Sep','Oct','Nov','Dec']\n",
    "Delivery_month =LastMenstruation.month -3\n",
    "print DM()\n",
    "Delivery_day=LastMenstruation.day + 7\n",
    "Delivery_time= str(Delivery_day) + DM() + str(Delivery_year)\n",
    "print \"Your Delivery Time is:\", Delivery_time\n"
   ]
  },
  {
   "cell_type": "code",
   "execution_count": null,
   "metadata": {
    "collapsed": false
   },
   "outputs": [],
   "source": []
  },
  {
   "cell_type": "code",
   "execution_count": null,
   "metadata": {
    "collapsed": true
   },
   "outputs": [],
   "source": []
  }
 ],
 "metadata": {
  "anaconda-cloud": {},
  "kernelspec": {
   "display_name": "Python [Root]",
   "language": "python",
   "name": "Python [Root]"
  },
  "language_info": {
   "codemirror_mode": {
    "name": "ipython",
    "version": 2
   },
   "file_extension": ".py",
   "mimetype": "text/x-python",
   "name": "python",
   "nbconvert_exporter": "python",
   "pygments_lexer": "ipython2",
   "version": "2.7.12"
  }
 },
 "nbformat": 4,
 "nbformat_minor": 0
}
