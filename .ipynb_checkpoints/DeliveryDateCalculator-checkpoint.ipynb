{
 "cells": [
  {
   "cell_type": "markdown",
   "metadata": {},
   "source": [
    "<h1>DeliveryDateCalculator</h1>\n",
    "Algorithm:\n",
    "<ol>Determine Your LMP date </ol>\n",
    "<ol>Add one year </ol>\n",
    "<ol>Count 3 months back and add 7 days to dat </ol>"
   ]
  },
  {
   "cell_type": "code",
   "execution_count": 2,
   "metadata": {
    "collapsed": false
   },
   "outputs": [
    {
     "name": "stdout",
     "output_type": "stream",
     "text": [
      "Enter your last Mentrual date in format (mm/dd/yyyy): 6/14/2018\n",
      "2018-06-14\n"
     ]
    }
   ],
   "source": [
    "import datetime\n",
    "userInput=raw_input(\"Enter your last Mentrual date in format (mm/dd/yyyy): \")\n",
    "LastMenstruation =datetime.datetime.strptime(userInput,'%m/%d/%Y').date()\n",
    "print LastMenstruation"
   ]
  },
  {
   "cell_type": "code",
   "execution_count": null,
   "metadata": {
    "collapsed": false
   },
   "outputs": [],
   "source": []
  },
  {
   "cell_type": "code",
   "execution_count": null,
   "metadata": {
    "collapsed": true
   },
   "outputs": [],
   "source": []
  }
 ],
 "metadata": {
  "anaconda-cloud": {},
  "kernelspec": {
   "display_name": "Python [Root]",
   "language": "python",
   "name": "Python [Root]"
  },
  "language_info": {
   "codemirror_mode": {
    "name": "ipython",
    "version": 2
   },
   "file_extension": ".py",
   "mimetype": "text/x-python",
   "name": "python",
   "nbconvert_exporter": "python",
   "pygments_lexer": "ipython2",
   "version": "2.7.12"
  }
 },
 "nbformat": 4,
 "nbformat_minor": 0
}
